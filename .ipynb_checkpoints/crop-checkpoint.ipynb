{
 "cells": [
  {
   "cell_type": "code",
   "execution_count": 3,
   "id": "952232c4-8656-41cd-b88c-fedca40f2709",
   "metadata": {},
   "outputs": [],
   "source": [
    "import pandas as pd\n",
    "import numpy as np\n",
    "import matplotlib as plt"
   ]
  },
  {
   "cell_type": "code",
   "execution_count": null,
   "id": "1f0fcba3-5a4b-43a5-aa5b-08c759dd552f",
   "metadata": {},
   "outputs": [],
   "source": [
    "df = pd.read_"
   ]
  },
  {
   "cell_type": "code",
   "execution_count": null,
   "id": "1c59a2dc-af24-4d9f-8e0c-cfe094d365db",
   "metadata": {},
   "outputs": [],
   "source": []
  }
 ],
 "metadata": {
  "kernelspec": {
   "display_name": "Python 3 (ipykernel)",
   "language": "python",
   "name": "python3"
  },
  "language_info": {
   "codemirror_mode": {
    "name": "ipython",
    "version": 3
   },
   "file_extension": ".py",
   "mimetype": "text/x-python",
   "name": "python",
   "nbconvert_exporter": "python",
   "pygments_lexer": "ipython3",
   "version": "3.10.6"
  }
 },
 "nbformat": 4,
 "nbformat_minor": 5
}
